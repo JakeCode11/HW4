{
  "nbformat": 4,
  "nbformat_minor": 0,
  "metadata": {
    "colab": {
      "name": "HW4.ipynb",
      "provenance": [],
      "collapsed_sections": [],
      "include_colab_link": true
    },
    "kernelspec": {
      "name": "python3",
      "display_name": "Python 3"
    }
  },
  "cells": [
    {
      "cell_type": "markdown",
      "metadata": {
        "id": "view-in-github",
        "colab_type": "text"
      },
      "source": [
        "<a href=\"https://colab.research.google.com/github/JakeCode11/HW4/blob/master/HW4.ipynb\" target=\"_parent\"><img src=\"https://colab.research.google.com/assets/colab-badge.svg\" alt=\"Open In Colab\"/></a>"
      ]
    },
    {
      "cell_type": "markdown",
      "metadata": {
        "id": "oMiFUmseKw8z",
        "colab_type": "text"
      },
      "source": [
        "### **General Concepts**\n",
        "\n",
        "**Artificial Intellgience:**\n",
        "\n",
        "\n",
        "\n",
        "> Artificial intelligence (AI) is one of the research fields and theoretical applications of programming that has, in recent years, become a focal point of discussion. AI is a step up above former programming techniques as it proposes the idea that computers can perform more sophisticated and complex tasks.\n",
        "\n",
        "> In essence, AI is the ability for a computer system to learn and perform tasks that normally require human intelligence. Such tasks include, but are not limited to, visual perception, speech recognition, decision-making, and translation between languages.\n",
        "\n",
        "> On a foundational level, AI takes in an input and set of rules to compute an output.\n",
        "\n",
        "**Machine Learning:**\n",
        "\n",
        "> As the name implies, Machine Learning (ML) takes a similar, but also different, approach to how AI solves problems. ML algorithms or programs adjust themselves in response to new data that they are exposed to. Additionally, ML is more of a dynamic experience in which very limited human intervention is required to make specific changes during the developmental process.\n",
        "\n",
        "> ML algorithms are fascinating in that they are able to modify themselves when exposed to more data during its lifetime. ML is different from AI in the sense that in its initialization, the algorithm is only aware of the input and output. The goal of the ML algorithm is to determine the rules or parameters to generate or determine the intended output from the given input."
      ]
    },
    {
      "cell_type": "markdown",
      "metadata": {
        "id": "83-fAj2GQrQh",
        "colab_type": "text"
      },
      "source": [
        "### **Building a Model**\n",
        "\n",
        "\n",
        "> When building a model, there are a number of variables and levels of understanding to consider to ensure that your output is the output you intended to find from analyzing a certain set of data.\n",
        "\n",
        "> Some things to consider when building the model are the following:\n",
        "*   Choosing a Measure of Success\n",
        "*   Setting up an Evalutation Protocol\n",
        "*   Preparing the data that you have chosen prior to training\n",
        "\n",
        "> With these in mind, it makes it a more streamline experience and provides better structure to attempting to solve a novel problem within computer science.\n",
        "\n",
        "> One very popular model that many computer scientists use frequently is linear regression. Linear regression in essence generates a 'line of best fit' for a series of data and utilizes that 'line' to predict the next outcome for a given arbitrary value. Below is an example of what a linear regression model looks like.\n",
        "\n",
        "\n",
        "\n",
        "\n",
        "\n",
        "\n",
        "\n",
        "\n",
        "\n"
      ]
    },
    {
      "cell_type": "code",
      "metadata": {
        "id": "mu0UK7J2KtR6",
        "colab_type": "code",
        "outputId": "858cea64-3f80-400e-a9ae-b6f275958ffe",
        "colab": {
          "base_uri": "https://localhost:8080/",
          "height": 225
        }
      },
      "source": [
        "import numpy as np\n",
        "import matplotlib.pyplot as plt\n",
        "from sklearn.linear_model import LinearRegression\n",
        "\n",
        "# x from 0 to 30\n",
        "x = 30 * np.random.random((20, 1))\n",
        "\n",
        "# y = a*x + b with noise\n",
        "y = 0.5 * x + 1.0 + np.random.normal(size=x.shape)\n",
        "\n",
        "# create a linear regression model\n",
        "model = LinearRegression()\n",
        "model.fit(x, y)\n",
        "\n",
        "# predict y from the data\n",
        "x_new = np.linspace(0, 30, 100)\n",
        "y_new = model.predict(x_new[:, np.newaxis])\n",
        "\n",
        "# plot the results\n",
        "plt.figure(figsize=(4, 3))\n",
        "ax = plt.axes()\n",
        "ax.scatter(x, y)\n",
        "ax.plot(x_new, y_new)\n",
        "ax.set_xlabel('x')\n",
        "ax.set_ylabel('y')\n",
        "ax.axis('tight')\n",
        "plt.show()"
      ],
      "execution_count": 0,
      "outputs": [
        {
          "output_type": "display_data",
          "data": {
            "image/png": "[encoded data removed]",
            "text/plain": [
              "<Figure size 288x216 with 1 Axes>"
            ]
          },
          "metadata": {
            "tags": []
          }
        }
      ]
    },
    {
      "cell_type": "markdown",
      "metadata": {
        "id": "0kMCoydjT_Kx",
        "colab_type": "text"
      },
      "source": [
        "### **Compiling a Model**\n",
        "\n",
        "> In the compilation process of a model, it is important to set up the model with the adequate parameters to run at the most optimized performance to yield accurate results for the intended dataset.\n",
        "\n",
        "> The following code is a good outline from my Homework 3 that shows how to define the different parameters of a model to structure it to better produce the intended output during the validation phase of the algorithm.\n",
        "\n",
        "\n",
        "\n"
      ]
    },
    {
      "cell_type": "code",
      "metadata": {
        "id": "M1Ie2WltXJb0",
        "colab_type": "code",
        "colab": {}
      },
      "source": [
        "learning_rate = 0.0002 \n",
        "lr_decay = 0.0001\n",
        "batch = 64\n",
        "fcLayer1 = 32\n",
        "dropout = 0.5\n",
        "\n",
        "epochsL1 = 10\n",
        "patiencel1 = 1\n",
        "factorL1 = 0.5\n",
        "\n",
        "epochsL2 = 10\n",
        "patiencel2 = 1\n",
        "factorL2 = 0.5\n",
        "\n",
        "verbose_train = 1"
      ],
      "execution_count": 0,
      "outputs": []
    },
    {
      "cell_type": "markdown",
      "metadata": {
        "id": "TkLvUfshXMvN",
        "colab_type": "text"
      },
      "source": [
        "\n",
        "\n",
        "> From the code above, each of these variables contributes to the overall structure of the model and affects how thoroughly, efficiently, and quickly the data will be computed through the model a programmer designed. As there are numerous types of models and approaches to structuring the models, these initial parameters in the compilation process are a very pivotal and important aspect to generating accurate ouput.\n",
        "\n"
      ]
    },
    {
      "cell_type": "markdown",
      "metadata": {
        "id": "xm8qurwgXvTq",
        "colab_type": "text"
      },
      "source": [
        "### **Training a Model**\n",
        "\n",
        "> Training a model is one of the most important parts of the AI/ML developmental life cycle. It gives the programmer a chance to observe any significant changes when new, unknown data is put through the model they developed.\n",
        "\n",
        "> In my experience in research and from this course, a good rule of thumb is taking the initial dataset given or provided and splitting it into two parts. The first part is what the programmer should train the model on to make sure it has an understanding of the type of input that it will process.  The second part is the testing set where the programmer will process the testing data into the model to see how it stands against new, randomized data.\n",
        "\n",
        "> Once both the training and test data are processed, it is important for a programmer to observe the difference in accuracy between the two sets and if there is any significant loss over the number of epochs the programmer has set.\n",
        "\n",
        "> One method of understanding the trained vs. test output is to develop a training and test loss graph that could show any overfitting or underfitting in the model.\n",
        "\n",
        "> Overfitting occurs when a model learns the training data to the extent that it results in a negative performance on new data. On the other hand, underfitting refers to data that cannot model the training data or generalize any new data that is being processed. Below is an example of overfitting and underfitting from my HW2 assignment.\n",
        "\n",
        "\n",
        "\n",
        "\n",
        "\n",
        "\n",
        "\n",
        "\n",
        "\n",
        "\n"
      ]
    },
    {
      "cell_type": "code",
      "metadata": {
        "id": "DaY39NphZsvo",
        "colab_type": "code",
        "colab": {}
      },
      "source": [
        "# Importing dependencies\n",
        "import matplotlib.pyplot as plt\n",
        "import numpy as np\n",
        "import tensorflow as tf\n",
        "from tensorflow import keras\n",
        "\n",
        "# Loading the MNIST Fashion Data set\n",
        "fashion_mnist = keras.datasets.fashion_mnist\n",
        "(train_images, train_labels), (test_images, test_labels) = fashion_mnist.load_data()\n",
        "\n",
        "# Preprocessing data\n",
        "train_images = train_images / 255.0\n",
        "test_images = test_images / 255.0\n",
        "\n",
        "# Setting up the 'Overfitting' model\n",
        "model = keras.Sequential([\n",
        "    keras.layers.Flatten(input_shape=(28,28)),\n",
        "    keras.layers.Dense(128*4, activation=tf.nn.relu),\n",
        "    keras.layers.Dense(10*4, activation=tf.nn.softmax)\n",
        "])\n",
        "\n",
        "# Compiling the model\n",
        "model.compile(optimizer='adam',\n",
        "              loss='sparse_categorical_crossentropy',\n",
        "              metrics=['accuracy'])\n",
        "\n",
        "# train the model\n",
        "epochs = 20\n",
        "history = model.fit(train_images,\n",
        "                    train_labels,\n",
        "                    epochs=epochs,\n",
        "                    validation_data=(test_images, test_labels))\n",
        "\n",
        "test_loss, test_acc = model.evaluate(test_images, test_labels)\n",
        "history_dict = history.history\n",
        "acc_values = history_dict['acc']\n",
        "test_acc_values = history_dict['val_acc']\n",
        "loss_values = history_dict['loss']\n",
        "test_loss_values = history_dict['val_loss']\n",
        "epochs_range = range(1, epochs+1)\n",
        "print(\"Test Accuracy:\", test_acc)\n",
        "\n",
        "plt.plot(epochs_range, acc_values, 'bo', label='Training accuracy')\n",
        "plt.plot(epochs_range, test_acc_values, 'ro', label='Test accuracy')\n",
        "plt.title('Training and test accuracy')\n",
        "plt.xlabel('Epochs')\n",
        "plt.ylabel('Accuracy')\n",
        "plt.legend()\n",
        "plt.show()\n",
        "\n",
        "# Setting up the 'Underfitting' model\n",
        "model = keras.Sequential([\n",
        "    keras.layers.Flatten(input_shape=(28,28)),\n",
        "    keras.layers.Dense(1024, activation=tf.nn.relu),\n",
        "    keras.layers.Dropout(0.75),\n",
        "    keras.layers.Dense(10, activation=tf.nn.softmax)\n",
        "])\n",
        "\n",
        "# Compiling the model\n",
        "model.compile(optimizer='adam',\n",
        "              loss='sparse_categorical_crossentropy',\n",
        "              metrics=['accuracy'])\n",
        "\n",
        "# train the model\n",
        "epochs = 20\n",
        "history = model.fit(train_images,\n",
        "                    train_labels,\n",
        "                    epochs=epochs,\n",
        "                    validation_data=(test_images, test_labels))\n",
        "\n",
        "test_loss, test_acc = model.evaluate(test_images, test_labels)\n",
        "history_dict = history.history\n",
        "acc_values = history_dict['acc']\n",
        "test_acc_values = history_dict['val_acc']\n",
        "loss_values = history_dict['loss']\n",
        "test_loss_values = history_dict['val_loss']\n",
        "epochs_range = range(1, epochs+1)\n",
        "print(\"Test Accuracy:\", test_acc)\n",
        "\n",
        "plt.plot(epochs_range, loss_values, 'bo', label='Training loss')\n",
        "plt.plot(epochs_range, test_loss_values, 'ro', label='Test loss')\n",
        "plt.title('Training and test loss')\n",
        "plt.xlabel('Epochs')\n",
        "plt.ylabel('Loss')\n",
        "plt.legend()\n",
        "plt.show()"
      ],
      "execution_count": 0,
      "outputs": []
    },
    {
      "cell_type": "markdown",
      "metadata": {
        "id": "4lWcWT9XaL6F",
        "colab_type": "text"
      },
      "source": [
        "### **Finetuning a pretrained model**\n",
        "\n",
        "When developing a training network, it is sometimes better to have a pretrained model to start off from rather than developing a network from scratch. The downside of developing a network from scratch, is that the programmer will need a rather large and expansive dataset to train their data on and a substantial amount of computing resources to be able to train the hypothetical data they use.\n",
        "\n",
        "The benefits of using a pretrained model is that you can load the pre-trained data into your code, freeze any of the required layers to avoid training on those layers, and then create your own model for the data to train on.\n",
        "\n",
        "Once the model is setup for training with the parameters you intend on using, you can now train your new model and check for the results to see how well your new model performed with the foundation of the pretrained model.\n"
      ]
    }
  ]
}